{
  "nbformat": 4,
  "nbformat_minor": 0,
  "metadata": {
    "colab": {
      "provenance": [],
      "include_colab_link": true
    },
    "kernelspec": {
      "name": "python3",
      "display_name": "Python 3"
    },
    "language_info": {
      "name": "python"
    }
  },
  "cells": [
    {
      "cell_type": "markdown",
      "metadata": {
        "id": "view-in-github",
        "colab_type": "text"
      },
      "source": [
        "<a href=\"https://colab.research.google.com/github/XxEgorikxX/University/blob/main/Extra_Tasks/Ex_Task_1.ipynb\" target=\"_parent\"><img src=\"https://colab.research.google.com/assets/colab-badge.svg\" alt=\"Open In Colab\"/></a>"
      ]
    },
    {
      "cell_type": "code",
      "execution_count": 3,
      "metadata": {
        "colab": {
          "base_uri": "https://localhost:8080/"
        },
        "id": "gJd272jPJZjF",
        "outputId": "0df51b37-7ac0-4a26-d1f2-8b329c94a2c6"
      },
      "outputs": [
        {
          "output_type": "stream",
          "name": "stdout",
          "text": [
            "Угадай его (79)\n",
            "Введите число: Hello\n",
            "Это не является числом, ты что-то попутал(а)...\n",
            "Введите число: 5\n",
            "Загаданное число больше, чем это)){лошарик}\n",
            "Введите число: 80\n",
            "Загаданное число меньше, чем это)){капуша}\n",
            "Введите число: 79\n",
            "Ты выйграл(а) за 3 попытки, красачик(красавица)!\n"
          ]
        }
      ],
      "source": [
        "import random\n",
        "count = 0\n",
        "answer = random.randint(1, 100)\n",
        "print(f'Угадай его ({answer})')\n",
        "while True:\n",
        "    us_answer = input('Введите число: ')\n",
        "    if us_answer.lower() == 'выход':\n",
        "      break\n",
        "    elif not us_answer.isdigit():\n",
        "      print('Это не является числом, ты что-то попутал(а)...')\n",
        "      continue\n",
        "    count += 1\n",
        "    us_answer = int(us_answer)\n",
        "    if us_answer == answer:\n",
        "        if count % 10 == 1 and count != 11:\n",
        "          print(f'Ты выйграл(а) за {count} попытку, ваще лучший(ая)! Возьми с полки пирожок!')\n",
        "        elif count % 10 < 5 and (count % 100) // 10 != 1:\n",
        "          print(f'Ты выйграл(а) за {count} попытки, красачик(красавица)!')\n",
        "        else:\n",
        "          print(f'Ты выйграл(а) за {count} попыток, красавчик(красавица)!')\n",
        "        break\n",
        "    elif us_answer < answer:\n",
        "      print('Загаданное число больше, чем это)){лошарик}')\n",
        "    else:\n",
        "      print('Загаданное число меньше, чем это)){капуша}')"
      ]
    }
  ]
}