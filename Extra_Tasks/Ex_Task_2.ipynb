{
  "nbformat": 4,
  "nbformat_minor": 0,
  "metadata": {
    "colab": {
      "provenance": [],
      "include_colab_link": true
    },
    "kernelspec": {
      "name": "python3",
      "display_name": "Python 3"
    },
    "language_info": {
      "name": "python"
    }
  },
  "cells": [
    {
      "cell_type": "markdown",
      "metadata": {
        "id": "view-in-github",
        "colab_type": "text"
      },
      "source": [
        "<a href=\"https://colab.research.google.com/github/XxEgorikxX/University/blob/main/Extra_Tasks/Ex_Task_2.ipynb\" target=\"_parent\"><img src=\"https://colab.research.google.com/assets/colab-badge.svg\" alt=\"Open In Colab\"/></a>"
      ]
    },
    {
      "cell_type": "code",
      "execution_count": null,
      "metadata": {
        "colab": {
          "base_uri": "https://localhost:8080/"
        },
        "id": "gJd272jPJZjF",
        "outputId": "c3dde4b1-e00c-470f-cacb-a538c4230964"
      },
      "outputs": [
        {
          "output_type": "stream",
          "name": "stdout",
          "text": [
            "Выберите функцию:\n",
            "\n",
            "1. Добавить контакт\n",
            "2. Удалить контакт\n",
            "3. Показать список контактов\n",
            "4. Изменить номер\n",
            "5. Выход\n",
            "Введите номер функции: 1\n",
            "Введите название для контакта: Егорик)\n",
            "Введите номер телефона: +79999999999\n",
            "Контакт добавлен\n",
            "Введите номер функции: 3\n",
            "Список контактов\n",
            "Егорик) +79999999999\n"
          ]
        }
      ],
      "source": [
        "def add_contact(contacts):\n",
        "  new_contacts = contacts.copy()\n",
        "  name = input('Введите название для контакта: ').title()\n",
        "  while True:\n",
        "    numb = input('Введите номер телефона: +7')\n",
        "    if numb.isdigit() and len(numb) == 10:\n",
        "      new_contacts[name] = '+7' + numb\n",
        "      print('Контакт добавлен')\n",
        "      break\n",
        "    else:\n",
        "      print('Неправильно введён номер! Вводите в форме +7хххххххххх (без +7)')\n",
        "  return new_contacts\n",
        "\n",
        "def delete_contact(contacts):\n",
        "  new_contacts = contacts.copy()\n",
        "  while True:\n",
        "    inp = input('Введите название контакта: ')\n",
        "    if inp in new_contacts:\n",
        "      new_contacts.pop(inp)\n",
        "      print('Контакт удалён')\n",
        "      break\n",
        "    elif inp == '-1':\n",
        "      break\n",
        "    else:\n",
        "      print('Контакт не найден! Попробуйте ещё раз или введите -1 для ввода другой функции')\n",
        "  return new_contacts\n",
        "\n",
        "def show_contacts(contacts):\n",
        "    print('Список контактов')\n",
        "    for i in sorted(list(contacts.items())):\n",
        "        print(i[0], i[1])\n",
        "\n",
        "def change_number(contacts):\n",
        "    new_contacts = contacts.copy()\n",
        "    while True:\n",
        "      name = input('Введите название контакта: ').title()\n",
        "      if name in new_contacts:\n",
        "        while True:\n",
        "          numb = input('Введите номер телефона: +7')\n",
        "          if numb.isdigit() and len(numb) == 10:\n",
        "            new_contacts[name] = '+7' + numb\n",
        "            print('Контакт изменён')\n",
        "            break\n",
        "          else:\n",
        "            print('Неправильно введён номер! Вводите в форме +7хххххххххх (без +7)')\n",
        "      elif name == '-1':\n",
        "        break\n",
        "      else:\n",
        "        print('Контакт не найден! Попробуйте ещё раз или введите -1 для ввода другой функции')\n",
        "      break\n",
        "    return new_contacts\n",
        "\n",
        "\n",
        "cont_list = {}\n",
        "while True:\n",
        "  print('Выберите функцию:\\n\\n1. Добавить контакт\\n2. Удалить контакт\\n3. Показать список контактов\\n4. Изменить номер\\n5. Выход')\n",
        "  while True:\n",
        "    f_num = input('Введите номер функции: ')\n",
        "\n",
        "    if f_num == '1':\n",
        "      cont_list = add_contact(cont_list)\n",
        "    elif f_num == '2':\n",
        "      cont_list = delete_contact(cont_list)\n",
        "    elif f_num == '3':\n",
        "      show_contacts(cont_list)\n",
        "    elif f_num == '4':\n",
        "      cont_list = change_number(cont_list)\n",
        "    elif f_num == '5':\n",
        "      print('До свидания!')\n",
        "      break\n",
        "    else:\n",
        "      print('Введена некорректная функция! Введите ещё раз')\n",
        "  break"
      ]
    }
  ]
}